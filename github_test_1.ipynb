{
 "cells": [
  {
   "cell_type": "code",
   "execution_count": 1,
   "id": "79f5290d",
   "metadata": {
    "ExecuteTime": {
     "end_time": "2022-03-22T23:18:01.249090Z",
     "start_time": "2022-03-22T23:17:54.120575Z"
    }
   },
   "outputs": [],
   "source": [
    "import os\n",
    "import glob\n",
    "from datetime import datetime\n",
    "\n",
    "import pandas as pd\n",
    "import pandas_profiling as pdprof\n",
    "import numpy as np\n",
    "from decimal import Decimal\n",
    "import collections\n",
    "import time\n",
    "import utm\n",
    "\n",
    "\n",
    "from sklearn import datasets, linear_model\n",
    "from sklearn.linear_model import LinearRegression\n",
    "import matplotlib\n",
    "import matplotlib.pyplot as plt\n",
    "import matplotlib.gridspec as gridspec\n",
    "from matplotlib.pyplot import figure\n",
    "\n",
    "%matplotlib inline\n",
    "import seaborn as sns\n",
    "# sns.set_theme()\n",
    "sns.set_style()\n",
    "\n",
    "import statsmodels.formula.api as sm\n",
    "from statsmodels.sandbox.regression.predstd import wls_prediction_std\n",
    "from brokenaxes import brokenaxes\n",
    "\n",
    "from scipy.stats import ttest_ind, ttest_ind_from_stats\n",
    "from scipy.special import stdtr\n",
    "\n",
    "from functools import reduce"
   ]
  },
  {
   "cell_type": "code",
   "execution_count": 2,
   "id": "d81c5e55",
   "metadata": {
    "ExecuteTime": {
     "end_time": "2022-03-22T23:27:21.302537Z",
     "start_time": "2022-03-22T23:27:21.283126Z"
    }
   },
   "outputs": [],
   "source": [
    "# some changes 2\n"
   ]
  },
  {
   "cell_type": "code",
   "execution_count": 23,
   "id": "b4f37c3c",
   "metadata": {
    "ExecuteTime": {
     "end_time": "2022-03-22T22:53:02.166332Z",
     "start_time": "2022-03-22T22:52:54.576950Z"
    }
   },
   "outputs": [
    {
     "name": "stdout",
     "output_type": "stream",
     "text": [
      "Collecting utm\n",
      "  Downloading utm-0.7.0.tar.gz (8.7 kB)\n",
      "  Preparing metadata (setup.py): started\n",
      "  Preparing metadata (setup.py): finished with status 'done'\n",
      "Building wheels for collected packages: utm\n",
      "  Building wheel for utm (setup.py): started\n",
      "  Building wheel for utm (setup.py): finished with status 'done'\n",
      "  Created wheel for utm: filename=utm-0.7.0-py3-none-any.whl size=6108 sha256=8665b60618d7fe9d401bfbccb01980e3b9871d3f54f8fb4f7e4391098e102949\n",
      "  Stored in directory: c:\\users\\hytel\\appdata\\local\\pip\\cache\\wheels\\65\\e2\\d8\\878a8cc986641056fbfebefc4d8eb64238a7b6d3426e86b447\n",
      "Successfully built utm\n",
      "Installing collected packages: utm\n",
      "Successfully installed utm-0.7.0\n"
     ]
    }
   ],
   "source": [
    "# pip install scikit-learn\n",
    "# pip install numpy\n",
    "# ! pip install matplotlib\n",
    "# ! pip install seaborn\n",
    "# ! pip install statsmodels\n",
    "# ! pip install brokenaxes\n",
    "# ! pip install networkx\n",
    "! pip install utm"
   ]
  },
  {
   "cell_type": "code",
   "execution_count": 3,
   "id": "f039e574",
   "metadata": {
    "ExecuteTime": {
     "end_time": "2022-03-22T22:34:57.130484Z",
     "start_time": "2022-03-22T22:34:56.616010Z"
    }
   },
   "outputs": [],
   "source": [
    "import numpy as np\n",
    "import pandas as pd"
   ]
  },
  {
   "cell_type": "code",
   "execution_count": 1,
   "id": "60448346",
   "metadata": {
    "ExecuteTime": {
     "end_time": "2022-03-22T22:34:39.373084Z",
     "start_time": "2022-03-22T22:32:02.488248Z"
    }
   },
   "outputs": [
    {
     "name": "stdout",
     "output_type": "stream",
     "text": [
      "^C\n",
      "Note: you may need to restart the kernel to use updated packages.\n"
     ]
    }
   ],
   "source": [
    "pip uninstall numpy"
   ]
  },
  {
   "cell_type": "code",
   "execution_count": 2,
   "id": "f2e96b6a",
   "metadata": {
    "ExecuteTime": {
     "end_time": "2022-03-22T22:34:48.101531Z",
     "start_time": "2022-03-22T22:34:46.206538Z"
    }
   },
   "outputs": [
    {
     "name": "stdout",
     "output_type": "stream",
     "text": [
      "Requirement already satisfied: numpy in c:\\users\\hytel\\anaconda3\\lib\\site-packages (1.22.3)\n",
      "Note: you may need to restart the kernel to use updated packages.\n"
     ]
    }
   ],
   "source": []
  },
  {
   "cell_type": "code",
   "execution_count": 25,
   "id": "db52312c",
   "metadata": {
    "ExecuteTime": {
     "end_time": "2022-03-22T22:53:20.021268Z",
     "start_time": "2022-03-22T22:53:20.003305Z"
    }
   },
   "outputs": [],
   "source": [
    "import platform\n",
    "from platform import python_version"
   ]
  },
  {
   "cell_type": "code",
   "execution_count": 26,
   "id": "83b83531",
   "metadata": {
    "ExecuteTime": {
     "end_time": "2022-03-22T22:53:22.061178Z",
     "start_time": "2022-03-22T22:53:22.045456Z"
    }
   },
   "outputs": [
    {
     "data": {
      "text/plain": [
       "'3.8.8'"
      ]
     },
     "execution_count": 26,
     "metadata": {},
     "output_type": "execute_result"
    }
   ],
   "source": [
    "platform.python_version()\n",
    "\n"
   ]
  },
  {
   "cell_type": "code",
   "execution_count": 16,
   "id": "bb9ae168",
   "metadata": {
    "ExecuteTime": {
     "end_time": "2022-03-22T21:32:23.302870Z",
     "start_time": "2022-03-22T21:32:14.597503Z"
    },
    "collapsed": true
   },
   "outputs": [
    {
     "name": "stdout",
     "output_type": "stream",
     "text": [
      "Requirement already satisfied: pip in c:\\users\\hytel\\anaconda3\\lib\\site-packages (21.2.2)\n",
      "Collecting pip\n",
      "  Downloading pip-22.0.4-py3-none-any.whl (2.1 MB)\n",
      "Installing collected packages: pip\n",
      "  Attempting uninstall: pip\n",
      "    Found existing installation: pip 21.2.2\n",
      "    Uninstalling pip-21.2.2:\n",
      "      Successfully uninstalled pip-21.2.2\n",
      "Successfully installed pip-22.0.4\n",
      "Note: you may need to restart the kernel to use updated packages.\n"
     ]
    }
   ],
   "source": [
    "pip install pip --upgrade"
   ]
  },
  {
   "cell_type": "code",
   "execution_count": 17,
   "id": "2fd8c803",
   "metadata": {
    "ExecuteTime": {
     "end_time": "2022-03-22T21:33:31.915996Z",
     "start_time": "2022-03-22T21:33:22.649709Z"
    },
    "collapsed": true
   },
   "outputs": [
    {
     "name": "stdout",
     "output_type": "stream",
     "text": [
      "Requirement already satisfied: notebook in c:\\users\\hytel\\anaconda3\\lib\\site-packages (6.4.6)\n",
      "Collecting notebook\n",
      "  Downloading notebook-6.4.10-py3-none-any.whl (9.9 MB)\n",
      "     ---------------------------------------- 9.9/9.9 MB 2.6 MB/s eta 0:00:00\n",
      "Requirement already satisfied: jinja2 in c:\\users\\hytel\\anaconda3\\lib\\site-packages (from notebook) (2.11.3)\n",
      "Requirement already satisfied: ipython-genutils in c:\\users\\hytel\\anaconda3\\lib\\site-packages (from notebook) (0.2.0)\n",
      "Requirement already satisfied: nbconvert>=5 in c:\\users\\hytel\\anaconda3\\lib\\site-packages (from notebook) (6.1.0)\n",
      "Requirement already satisfied: tornado>=6.1 in c:\\users\\hytel\\anaconda3\\lib\\site-packages (from notebook) (6.1)\n",
      "Requirement already satisfied: nest-asyncio>=1.5 in c:\\users\\hytel\\anaconda3\\lib\\site-packages (from notebook) (1.5.1)\n",
      "Requirement already satisfied: jupyter-core>=4.6.1 in c:\\users\\hytel\\anaconda3\\lib\\site-packages (from notebook) (4.9.1)\n",
      "Requirement already satisfied: nbformat in c:\\users\\hytel\\anaconda3\\lib\\site-packages (from notebook) (5.1.3)\n",
      "Requirement already satisfied: terminado>=0.8.3 in c:\\users\\hytel\\anaconda3\\lib\\site-packages (from notebook) (0.9.4)\n",
      "Requirement already satisfied: prometheus-client in c:\\users\\hytel\\anaconda3\\lib\\site-packages (from notebook) (0.13.1)\n",
      "Requirement already satisfied: jupyter-client>=5.3.4 in c:\\users\\hytel\\anaconda3\\lib\\site-packages (from notebook) (6.1.12)\n",
      "Requirement already satisfied: argon2-cffi in c:\\users\\hytel\\anaconda3\\lib\\site-packages (from notebook) (20.1.0)\n",
      "Requirement already satisfied: pyzmq>=17 in c:\\users\\hytel\\anaconda3\\lib\\site-packages (from notebook) (22.3.0)\n",
      "Requirement already satisfied: Send2Trash>=1.8.0 in c:\\users\\hytel\\anaconda3\\lib\\site-packages (from notebook) (1.8.0)\n",
      "Requirement already satisfied: traitlets>=4.2.1 in c:\\users\\hytel\\anaconda3\\lib\\site-packages (from notebook) (5.1.1)\n",
      "Requirement already satisfied: ipykernel in c:\\users\\hytel\\anaconda3\\lib\\site-packages (from notebook) (6.4.1)\n",
      "Requirement already satisfied: python-dateutil>=2.1 in c:\\users\\hytel\\anaconda3\\lib\\site-packages (from jupyter-client>=5.3.4->notebook) (2.8.2)\n",
      "Requirement already satisfied: pywin32>=1.0 in c:\\users\\hytel\\anaconda3\\lib\\site-packages (from jupyter-core>=4.6.1->notebook) (302)\n",
      "Requirement already satisfied: bleach in c:\\users\\hytel\\anaconda3\\lib\\site-packages (from nbconvert>=5->notebook) (4.1.0)\n",
      "Requirement already satisfied: entrypoints>=0.2.2 in c:\\users\\hytel\\anaconda3\\lib\\site-packages (from nbconvert>=5->notebook) (0.3)\n",
      "Requirement already satisfied: pandocfilters>=1.4.1 in c:\\users\\hytel\\anaconda3\\lib\\site-packages (from nbconvert>=5->notebook) (1.5.0)\n",
      "Requirement already satisfied: jupyterlab-pygments in c:\\users\\hytel\\anaconda3\\lib\\site-packages (from nbconvert>=5->notebook) (0.1.2)\n",
      "Requirement already satisfied: mistune<2,>=0.8.1 in c:\\users\\hytel\\anaconda3\\lib\\site-packages (from nbconvert>=5->notebook) (0.8.4)\n",
      "Requirement already satisfied: testpath in c:\\users\\hytel\\anaconda3\\lib\\site-packages (from nbconvert>=5->notebook) (0.5.0)\n",
      "Requirement already satisfied: defusedxml in c:\\users\\hytel\\anaconda3\\lib\\site-packages (from nbconvert>=5->notebook) (0.7.1)\n",
      "Requirement already satisfied: nbclient<0.6.0,>=0.5.0 in c:\\users\\hytel\\anaconda3\\lib\\site-packages (from nbconvert>=5->notebook) (0.5.3)\n",
      "Requirement already satisfied: pygments>=2.4.1 in c:\\users\\hytel\\anaconda3\\lib\\site-packages (from nbconvert>=5->notebook) (2.11.2)\n",
      "Requirement already satisfied: MarkupSafe>=0.23 in c:\\users\\hytel\\anaconda3\\lib\\site-packages (from jinja2->notebook) (1.1.1)\n",
      "Requirement already satisfied: jsonschema!=2.5.0,>=2.4 in c:\\users\\hytel\\anaconda3\\lib\\site-packages (from nbformat->notebook) (3.2.0)\n",
      "Requirement already satisfied: pywinpty>=0.5 in c:\\users\\hytel\\anaconda3\\lib\\site-packages (from terminado>=0.8.3->notebook) (2.0.2)\n",
      "Requirement already satisfied: six in c:\\users\\hytel\\anaconda3\\lib\\site-packages (from argon2-cffi->notebook) (1.16.0)\n",
      "Requirement already satisfied: cffi>=1.0.0 in c:\\users\\hytel\\anaconda3\\lib\\site-packages (from argon2-cffi->notebook) (1.15.0)\n",
      "Requirement already satisfied: debugpy<2.0,>=1.0.0 in c:\\users\\hytel\\anaconda3\\lib\\site-packages (from ipykernel->notebook) (1.5.1)\n",
      "Requirement already satisfied: ipython<8.0,>=7.23.1 in c:\\users\\hytel\\anaconda3\\lib\\site-packages (from ipykernel->notebook) (7.31.1)\n",
      "Requirement already satisfied: matplotlib-inline<0.2.0,>=0.1.0 in c:\\users\\hytel\\anaconda3\\lib\\site-packages (from ipykernel->notebook) (0.1.2)\n",
      "Requirement already satisfied: pycparser in c:\\users\\hytel\\anaconda3\\lib\\site-packages (from cffi>=1.0.0->argon2-cffi->notebook) (2.21)\n",
      "Requirement already satisfied: setuptools>=18.5 in c:\\users\\hytel\\anaconda3\\lib\\site-packages (from ipython<8.0,>=7.23.1->ipykernel->notebook) (58.0.4)\n",
      "Requirement already satisfied: prompt-toolkit!=3.0.0,!=3.0.1,<3.1.0,>=2.0.0 in c:\\users\\hytel\\anaconda3\\lib\\site-packages (from ipython<8.0,>=7.23.1->ipykernel->notebook) (3.0.20)\n",
      "Requirement already satisfied: colorama in c:\\users\\hytel\\anaconda3\\lib\\site-packages (from ipython<8.0,>=7.23.1->ipykernel->notebook) (0.4.4)\n",
      "Requirement already satisfied: jedi>=0.16 in c:\\users\\hytel\\anaconda3\\lib\\site-packages (from ipython<8.0,>=7.23.1->ipykernel->notebook) (0.18.1)\n",
      "Requirement already satisfied: pickleshare in c:\\users\\hytel\\anaconda3\\lib\\site-packages (from ipython<8.0,>=7.23.1->ipykernel->notebook) (0.7.5)\n",
      "Requirement already satisfied: decorator in c:\\users\\hytel\\anaconda3\\lib\\site-packages (from ipython<8.0,>=7.23.1->ipykernel->notebook) (5.1.1)\n",
      "Requirement already satisfied: backcall in c:\\users\\hytel\\anaconda3\\lib\\site-packages (from ipython<8.0,>=7.23.1->ipykernel->notebook) (0.2.0)\n",
      "Requirement already satisfied: pyrsistent>=0.14.0 in c:\\users\\hytel\\anaconda3\\lib\\site-packages (from jsonschema!=2.5.0,>=2.4->nbformat->notebook) (0.18.0)\n",
      "Requirement already satisfied: attrs>=17.4.0 in c:\\users\\hytel\\anaconda3\\lib\\site-packages (from jsonschema!=2.5.0,>=2.4->nbformat->notebook) (21.4.0)\n",
      "Requirement already satisfied: async-generator in c:\\users\\hytel\\anaconda3\\lib\\site-packages (from nbclient<0.6.0,>=0.5.0->nbconvert>=5->notebook) (1.10)\n",
      "Requirement already satisfied: packaging in c:\\users\\hytel\\anaconda3\\lib\\site-packages (from bleach->nbconvert>=5->notebook) (21.3)\n",
      "Requirement already satisfied: webencodings in c:\\users\\hytel\\anaconda3\\lib\\site-packages (from bleach->nbconvert>=5->notebook) (0.5.1)\n",
      "Requirement already satisfied: parso<0.9.0,>=0.8.0 in c:\\users\\hytel\\anaconda3\\lib\\site-packages (from jedi>=0.16->ipython<8.0,>=7.23.1->ipykernel->notebook) (0.8.3)\n",
      "Requirement already satisfied: wcwidth in c:\\users\\hytel\\anaconda3\\lib\\site-packages (from prompt-toolkit!=3.0.0,!=3.0.1,<3.1.0,>=2.0.0->ipython<8.0,>=7.23.1->ipykernel->notebook) (0.2.5)\n",
      "Requirement already satisfied: pyparsing!=3.0.5,>=2.0.2 in c:\\users\\hytel\\anaconda3\\lib\\site-packages (from packaging->bleach->nbconvert>=5->notebook) (3.0.4)\n",
      "Installing collected packages: notebook\n",
      "  Attempting uninstall: notebook\n",
      "    Found existing installation: notebook 6.4.6\n",
      "    Uninstalling notebook-6.4.6:\n",
      "      Successfully uninstalled notebook-6.4.6\n",
      "Successfully installed notebook-6.4.10\n",
      "Note: you may need to restart the kernel to use updated packages.\n"
     ]
    },
    {
     "name": "stderr",
     "output_type": "stream",
     "text": [
      "ERROR: pip's dependency resolver does not currently take into account all the packages that are installed. This behaviour is the source of the following dependency conflicts.\n",
      "jupyter-contrib-nbextensions 0.5.1 requires lxml, which is not installed.\n"
     ]
    }
   ],
   "source": [
    "pip install notebook --upgrade"
   ]
  },
  {
   "cell_type": "code",
   "execution_count": null,
   "id": "39b1909c",
   "metadata": {},
   "outputs": [],
   "source": []
  }
 ],
 "metadata": {
  "kernelspec": {
   "display_name": "Python 3 (ipykernel)",
   "language": "python",
   "name": "python3"
  },
  "language_info": {
   "codemirror_mode": {
    "name": "ipython",
    "version": 3
   },
   "file_extension": ".py",
   "mimetype": "text/x-python",
   "name": "python",
   "nbconvert_exporter": "python",
   "pygments_lexer": "ipython3",
   "version": "3.8.8"
  },
  "toc": {
   "base_numbering": 1,
   "nav_menu": {},
   "number_sections": true,
   "sideBar": true,
   "skip_h1_title": false,
   "title_cell": "Table of Contents",
   "title_sidebar": "Contents",
   "toc_cell": false,
   "toc_position": {
    "height": "calc(100% - 180px)",
    "left": "10px",
    "top": "150px",
    "width": "384px"
   },
   "toc_section_display": true,
   "toc_window_display": true
  },
  "varInspector": {
   "cols": {
    "lenName": 16,
    "lenType": 16,
    "lenVar": 40
   },
   "kernels_config": {
    "python": {
     "delete_cmd_postfix": "",
     "delete_cmd_prefix": "del ",
     "library": "var_list.py",
     "varRefreshCmd": "print(var_dic_list())"
    },
    "r": {
     "delete_cmd_postfix": ") ",
     "delete_cmd_prefix": "rm(",
     "library": "var_list.r",
     "varRefreshCmd": "cat(var_dic_list()) "
    }
   },
   "types_to_exclude": [
    "module",
    "function",
    "builtin_function_or_method",
    "instance",
    "_Feature"
   ],
   "window_display": false
  }
 },
 "nbformat": 4,
 "nbformat_minor": 5
}
